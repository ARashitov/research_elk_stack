{
 "cells": [
  {
   "cell_type": "markdown",
   "id": "7727da0e",
   "metadata": {},
   "source": [
    "# About\n",
    "* **Author**: Adil Rashitov (adil@wastelabs.co)\n",
    "* **Created at**: 25.03.2022\n",
    "* **Issue**: https://github.com/AtmosOne/dev_template_repo/issues/1\n"
   ]
  },
  {
   "cell_type": "code",
   "execution_count": null,
   "id": "0d4c7bdb",
   "metadata": {
    "code_folding": [
     0
    ]
   },
   "outputs": [],
   "source": [
    "# Imports / Configs / Global vars\n",
    "\n",
    "# Import of native python tools\n",
    "import os\n",
    "import json\n",
    "from functools import reduce\n",
    "\n",
    "# Import of base ML stack libs\n",
    "import numpy as np\n",
    "import sklearn as sc\n",
    "\n",
    "# Multiprocessing for Mac / Linux\n",
    "import platform\n",
    "platform.system()\n",
    "if platform.system() == 'Darwin':\n",
    "    from multiprocess import Pool\n",
    "else:\n",
    "    from multiprocessing import Pool\n",
    "\n",
    "# Visualization libraries\n",
    "import plotly.express as px\n",
    "\n",
    "# Logging configuraiton\n",
    "import logging\n",
    "logging.basicConfig(format='[ %(asctime)s ][ %(levelname)s ]: %(message)s', datefmt='%m/%d/%Y %I:%M:%S %p')\n",
    "logger = logging.getLogger()\n",
    "logger.setLevel(logging.INFO)\n",
    "\n",
    "\n",
    "# Ipython configs\n",
    "from IPython.core.display import display, HTML\n",
    "from IPython.core.interactiveshell import InteractiveShell\n",
    "display(HTML(\"<style>.container { width:100% !important; }</style>\"))\n",
    "InteractiveShell.ast_node_interactivity = 'all'\n",
    "\n",
    "# Pandas configs\n",
    "import pandas as pd\n",
    "import geopandas as gpd\n",
    "pd.options.display.max_rows = 350\n",
    "pd.options.display.max_columns = 250\n",
    "\n",
    "# Jupyter configs\n",
    "%load_ext autoreload\n",
    "%autoreload 2\n",
    "%config Completer.use_jedi = False\n",
    "\n",
    "# GLOBAL VARS\n",
    "from pathlib import Path\n",
    "import sys\n",
    "SRC_DIR = os.getcwd().rsplit('/', 1)[0] + \"/src\"\n",
    "\n",
    "\n",
    "if SRC_DIR not in sys.path:\n",
    "    sys.path.append(SRC_DIR)"
   ]
  },
  {
   "cell_type": "markdown",
   "id": "1fef11bd",
   "metadata": {},
   "source": [
    "# Context management\n",
    "* Kedro\n",
    "* Data"
   ]
  },
  {
   "cell_type": "code",
   "execution_count": null,
   "id": "91121358",
   "metadata": {
    "code_folding": []
   },
   "outputs": [],
   "source": [
    "# Data\n",
    "from datetime import datetime\n",
    "from kedro.framework.context.context import KedroContext\n",
    "from kedro.framework.hooks.manager import _create_hook_manager, _register_hooks\n",
    "\n",
    "from kedro.pipeline import Pipeline\n",
    "\n",
    "from context import get_kedro_context, get_kedro_session, KEDRO_CONTEXT_ENVS\n",
    "from pipelines.pipeline_registry import register_pipelines\n",
    "from pipelines.settings import HOOKS\n",
    "\n",
    "from pluggy import PluginManager\n",
    "\n",
    "\n",
    "def _get_pipeline(name: str) -> Pipeline:\n",
    "    return register_pipelines()[name]\n",
    "\n",
    "\n",
    "def _configure_pipeline_hooks() -> PluginManager:\n",
    "    hook_manager = _create_hook_manager()\n",
    "    _register_hooks(hook_manager, HOOKS)\n",
    "    return hook_manager\n",
    "\n",
    "# 1. Refresh session\n",
    "task_id = \"test_task_id\"\n",
    "session = get_kedro_session(\"test\")\n",
    "session.session_id = task_id.replace(' ', '_') + session.session_id\n",
    "\n",
    "# 2. \n",
    "session_id = task_id + \"__\" + str(datetime.now()).replace(\" \", \"_\") \n",
    "catalog = session.load_context().catalog\n",
    "pipeline = _get_pipeline(\"example\")\n",
    "hook_manager = _configure_pipeline_hooks()"
   ]
  },
  {
   "cell_type": "markdown",
   "id": "ef932022",
   "metadata": {},
   "source": [
    "# Main\n",
    "Main code goes below"
   ]
  },
  {
   "cell_type": "code",
   "execution_count": null,
   "id": "c5081e60",
   "metadata": {},
   "outputs": [],
   "source": [
    "from kedro.runner import SequentialRunner\n",
    "\n",
    "runner = SequentialRunner(is_async=True)"
   ]
  },
  {
   "cell_type": "code",
   "execution_count": null,
   "id": "6fc58d54",
   "metadata": {},
   "outputs": [],
   "source": [
    "from kedro.io import MemoryDataSet\n",
    "\n",
    "\n",
    "catalog.add_all({\"task_id\": MemoryDataSet(task_id)}, replace=True)"
   ]
  },
  {
   "cell_type": "code",
   "execution_count": null,
   "id": "045aaea4",
   "metadata": {},
   "outputs": [],
   "source": [
    "hook_manager.hook"
   ]
  },
  {
   "cell_type": "code",
   "execution_count": null,
   "id": "3054364a",
   "metadata": {},
   "outputs": [],
   "source": [
    "\n",
    "\n",
    "\n",
    "result = runner.run(pipeline,\n",
    "                   catalog,\n",
    "                   hook_manager=hook_manager,\n",
    "                   session_id=session_id)"
   ]
  },
  {
   "cell_type": "code",
   "execution_count": null,
   "id": "1f8f8db1",
   "metadata": {},
   "outputs": [],
   "source": [
    "from pipelines.schemas.logs import PipelineLog\n",
    "\n",
    "\n",
    "PipelineLog(\n",
    "    inputs: Union[]\n",
    "    outputs: Union[List[str], str, None]\n",
    "    name: str\n",
    "    namespace: Union[str, None]\n",
    "    tags: Union[Any, None]\n",
    "    confirms: Union[Any, None]\n",
    ")\n",
    "\n"
   ]
  },
  {
   "cell_type": "code",
   "execution_count": null,
   "id": "6ce9f9dd",
   "metadata": {},
   "outputs": [],
   "source": []
  },
  {
   "cell_type": "markdown",
   "id": "e394be6d",
   "metadata": {},
   "source": [
    "# Summary"
   ]
  },
  {
   "cell_type": "code",
   "execution_count": null,
   "id": "0cd20eb7",
   "metadata": {},
   "outputs": [],
   "source": []
  }
 ],
 "metadata": {
  "kernelspec": {
   "display_name": "Python 3 (ipykernel)",
   "language": "python",
   "name": "python3"
  },
  "language_info": {
   "codemirror_mode": {
    "name": "ipython",
    "version": 3
   },
   "file_extension": ".py",
   "mimetype": "text/x-python",
   "name": "python",
   "nbconvert_exporter": "python",
   "pygments_lexer": "ipython3",
   "version": "3.10.4"
  },
  "varInspector": {
   "cols": {
    "lenName": 16,
    "lenType": 16,
    "lenVar": 40
   },
   "kernels_config": {
    "python": {
     "delete_cmd_postfix": "",
     "delete_cmd_prefix": "del ",
     "library": "var_list.py",
     "varRefreshCmd": "print(var_dic_list())"
    },
    "r": {
     "delete_cmd_postfix": ") ",
     "delete_cmd_prefix": "rm(",
     "library": "var_list.r",
     "varRefreshCmd": "cat(var_dic_list()) "
    }
   },
   "types_to_exclude": [
    "module",
    "function",
    "builtin_function_or_method",
    "instance",
    "_Feature"
   ],
   "window_display": false
  }
 },
 "nbformat": 4,
 "nbformat_minor": 5
}
